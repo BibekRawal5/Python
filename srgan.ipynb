{
 "cells": [
  {
   "cell_type": "code",
   "execution_count": 1,
   "metadata": {},
   "outputs": [
    {
     "name": "stdout",
     "output_type": "stream",
     "text": [
      "WARNING:tensorflow:From c:\\Users\\HP\\AppData\\Local\\Programs\\Python\\Python311\\Lib\\site-packages\\keras\\src\\losses.py:2976: The name tf.losses.sparse_softmax_cross_entropy is deprecated. Please use tf.compat.v1.losses.sparse_softmax_cross_entropy instead.\n",
      "\n"
     ]
    }
   ],
   "source": [
    "import tensorflow as tf\n",
    "import numpy as np"
   ]
  },
  {
   "cell_type": "code",
   "execution_count": 5,
   "metadata": {},
   "outputs": [],
   "source": [
    "# residual block for iperator\n",
    "def residual_block(ip):\n",
    "    residual_model = tf.keras.layers.Conv2D(64, (3,3), padding='same')(ip)\n",
    "    residual_model = tf.keras.layers.BatchNormalization(momentum= 0.5)(residual_model)\n",
    "    residual_model = tf.keras.layers.PReLU(shared_axes=[1,2])(residual_model)\n",
    "    residual_model = tf.keras.layers.Conv2D(64, (3,3), padding='same')(residual_model)\n",
    "    residual_model = tf.keras.layers.BatchNormalization(momentum= 0.5)(residual_model)\n",
    "    \n",
    "    return tf.keras.layers.Add([ip, residual_model])\n",
    "    "
   ]
  },
  {
   "cell_type": "code",
   "execution_count": 3,
   "metadata": {},
   "outputs": [],
   "source": [
    "def pixel_shuffler_block(ip):\n",
    "    ps_model = tf.keras.layers.Conv2d(256, (3,3), padding='same')(ip)\n",
    "    ps_model = tf.keras.layers.Upsampling2D(size = 2)(ps_model)\n",
    "    ps_model = tf.keras.layers.PReLU(shared_axes=[1,2])(ps_model)\n",
    "    \n",
    "    return ps_model"
   ]
  },
  {
   "cell_type": "code",
   "execution_count": 7,
   "metadata": {},
   "outputs": [],
   "source": [
    "def create_generator(generator, no_res_blocks = 16, no_pixel_shuffler_blocks = 2):\n",
    "    model = tf.keras.layers.Conv2D(64, (9,9), padding='same')(generator)\n",
    "    model = tf.keras.layers.PReLU(shared_axes=[1,2])(model)\n",
    "    \n",
    "    temp = model\n",
    "    \n",
    "    for i in range(no_res_blocks):\n",
    "        model = residual_block(model)\n",
    "    \n",
    "    model = tf.keras.layers.Conv2D(64, (3,3), padding='same')(model)\n",
    "    model = tf.keras.layers.BatchNormalization(momentum= 0.5)(model)\n",
    "    model = tf.keras.layers.Add([model, temp])\n",
    "    \n",
    "    for i in range(no_pixel_shuffler_blocks):\n",
    "        model = pixel_shuffler_block(model)\n",
    "    \n",
    "    output = tf.keras.layers.Conv2D(3, (9,9), padding='same')(model)\n",
    "\n",
    "    return tf.keras.Model(inputs= generator, outputs= output)\n",
    "    "
   ]
  },
  {
   "cell_type": "code",
   "execution_count": 11,
   "metadata": {},
   "outputs": [],
   "source": [
    "def create_disriminator(discriminator):\n",
    "    filters = [128, 256, 512]\n",
    "    strides = [1, 2]\n",
    "    model = tf.keras.layers.Conv2D(64, (3,3), strides= 1, padding='same')(discriminator)\n",
    "    model = tf.keras.layers.LeakyReLU(alpha=0.2)(model)\n",
    "    \n",
    "    model = tf.keras.layers.Conv2D(64, (3,3), strides= 2, padding='same')(model)\n",
    "    model = tf.keras.layers.BatchNormalization(momentum = 0.8)(model)\n",
    "    model = tf.keras.layers.LeakyReLU(alpha=0.2)(model)\n",
    "    \n",
    "    for filter in filters:\n",
    "        for stride in strides:       \n",
    "            model = tf.keras.layers.Conv2D(filter, (3,3), strides= stride, padding='same')(model)\n",
    "            model = tf.keras.layers.BatchNormalization(momentum = 0.8)(model)\n",
    "            model = tf.keras.layers.LeakyReLU(alpha=0.2)(model)\n",
    "    \n",
    "    model = tf.kera.layers.Flatten()(model)\n",
    "    model = tf.keras.layers.Dense(1024)(model)\n",
    "    model = tf.keras.layers.LeakyReLU(alpha= 0.2)(model)\n",
    "    model = tf.keras.layers.Dense(1, activation='sigmoid')(model)\n",
    "    \n",
    "    return tf.keras.Model(inputs= discriminator, outputs=model)"
   ]
  },
  {
   "cell_type": "code",
   "execution_count": 9,
   "metadata": {},
   "outputs": [],
   "source": [
    "from keras.applications import VGG19"
   ]
  },
  {
   "cell_type": "code",
   "execution_count": 10,
   "metadata": {},
   "outputs": [],
   "source": [
    "def create_vgg(hr_shape):\n",
    "    vgg = VGG19(weights='imagenet', include_top=False, input_shape=hr_shape)\n",
    "    \n",
    "    return tf.keras.Model(inputs= vgg.inputs, output= vgg.layers[10].output)"
   ]
  },
  {
   "cell_type": "code",
   "execution_count": 12,
   "metadata": {},
   "outputs": [],
   "source": [
    "def final_model(generator, discriminator, vgg, lr_ip, hr_ip):\n",
    "    gen_img = generator(lr_ip)\n",
    "    \n",
    "    gen_features = vgg(gen_img)\n",
    "    \n",
    "    discriminator.trainable = False\n",
    "    disc_result = discriminator(gen_img)\n",
    "    \n",
    "    return tf.keras.Model(inputs=[lr_ip, hr_ip], outputs= [disc_result, gen_features])"
   ]
  },
  {
   "cell_type": "code",
   "execution_count": null,
   "metadata": {},
   "outputs": [],
   "source": []
  }
 ],
 "metadata": {
  "kernelspec": {
   "display_name": "Python 3",
   "language": "python",
   "name": "python3"
  },
  "language_info": {
   "codemirror_mode": {
    "name": "ipython",
    "version": 3
   },
   "file_extension": ".py",
   "mimetype": "text/x-python",
   "name": "python",
   "nbconvert_exporter": "python",
   "pygments_lexer": "ipython3",
   "version": "3.11.7"
  }
 },
 "nbformat": 4,
 "nbformat_minor": 2
}
